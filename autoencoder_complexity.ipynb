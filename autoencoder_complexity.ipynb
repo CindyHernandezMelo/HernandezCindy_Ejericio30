{
  "nbformat": 4,
  "nbformat_minor": 0,
  "metadata": {
    "colab": {
      "name": "autoencoder_complexity.ipynb",
      "provenance": []
    },
    "kernelspec": {
      "name": "python3",
      "display_name": "Python 3"
    }
  },
  "cells": [
    {
      "cell_type": "code",
      "metadata": {
        "id": "PW7OnorZoBZT",
        "colab_type": "code",
        "colab": {}
      },
      "source": [
        "import numpy as np\n",
        "import matplotlib.pyplot as plt\n",
        "import torch\n",
        "import torchvision\n",
        "import torchvision.datasets\n",
        "import torchvision.models\n",
        "import torchvision.transforms\n",
        "import sklearn.datasets as skdata\n",
        "from sklearn.preprocessing import StandardScaler"
      ],
      "execution_count": 0,
      "outputs": []
    },
    {
      "cell_type": "code",
      "metadata": {
        "id": "nqedoXmCpGR7",
        "colab_type": "code",
        "colab": {}
      },
      "source": [
        "numeros = skdata.load_digits()\n",
        "target = numeros['target']\n",
        "imagenes = numeros['images']\n",
        "n_imagenes = len(target)\n",
        "\n",
        "x_train = torch.autograd.Variable(torch.Tensor(imagenes).float())\n",
        "x_train = x_train.unsqueeze(1)\n",
        "\n",
        "mean = x_train.mean(dim=0)\n",
        "std = x_train.std(dim=0)\n",
        "std[std==0]=1.0\n",
        "\n",
        "for i in range(len(x_train)):\n",
        "    x_train[i] = (x_train[i]-mean)/std"
      ],
      "execution_count": 0,
      "outputs": []
    },
    {
      "cell_type": "code",
      "metadata": {
        "id": "Xk82GDboyiXK",
        "colab_type": "code",
        "colab": {}
      },
      "source": [
        "\n",
        "v0 = [16,8,10,4,2,2]\n",
        "v1 = [16,8,10,5,2,2]\n",
        "v2 = [16,8,10,3,2,1]\n",
        "v3 = [16,8,10,4,3,2]\n",
        "v4 = [16,8,10,4,3,1]\n",
        "v5 = [16,8,10,3,3,1]\n",
        "v6 = [16,8,10,3,2,2]\n",
        "v7 = [16,8,10,5,2,1]\n",
        "v8 = [16,8,10,2,1,1]\n",
        "v9 = [16,8,10,2,2,1]\n",
        "\n",
        "cambios = np.array((v0, v1,v2, v3,v4, v5,v6, v7,v8, v9))"
      ],
      "execution_count": 0,
      "outputs": []
    },
    {
      "cell_type": "code",
      "metadata": {
        "id": "GAG2kafrpJyM",
        "colab_type": "code",
        "colab": {
          "base_uri": "https://localhost:8080/",
          "height": 197
        },
        "outputId": "aa36e455-6d79-47f3-a2e2-e09f65f1c560"
      },
      "source": [
        "loss_value = np.zeros(10)\n",
        "n_c = np.zeros(10)\n",
        "n_l = np.zeros([10,4])\n",
        "\n",
        "for i in range(10):\n",
        "  print(i)\n",
        "  n_1,n_2,n_3,n_4,n_5,n_6 = cambios[i,:]\n",
        "  class Autoencoder(torch.nn.Module):\n",
        "      def __init__(self):\n",
        "          super(Autoencoder,self).__init__()\n",
        "          self.encoder = torch.nn.Sequential(\n",
        "              torch.nn.Conv2d(1, n_1, kernel_size=n_4),\n",
        "              torch.nn.Conv2d(n_1,n_2,kernel_size=n_5),\n",
        "              torch.nn.Conv2d(n_2,n_3,kernel_size=n_6))\n",
        "          self.decoder = torch.nn.Sequential(             \n",
        "              torch.nn.ConvTranspose2d(n_3,n_2,kernel_size=n_6),\n",
        "              torch.nn.ConvTranspose2d(n_2,n_1,kernel_size=n_5),\n",
        "              torch.nn.ConvTranspose2d(n_1,1,kernel_size=n_4))\n",
        "      def forward(self,x):\n",
        "          x = self.encoder(x)\n",
        "          x = self.decoder(x)\n",
        "          return x\n",
        "\n",
        "  num_epochs = 100\n",
        "  model = Autoencoder()\n",
        "  distance = torch.nn.MSELoss()\n",
        "  optimizer = torch.optim.Adam(model.parameters(), lr=0.01, weight_decay=1E-3)\n",
        "\n",
        "  for epoch in range(num_epochs):\n",
        "    output = model(x_train)\n",
        "    loss = distance(output, x_train)\n",
        "    optimizer.zero_grad()\n",
        "    loss.backward()\n",
        "    optimizer.step()\n",
        "\n",
        "  loss_value[i] = loss.item()\n",
        "  model_parameters = filter(lambda p: p.requires_grad, model.parameters())\n",
        "  n_c[i] = sum([np.prod(p.size()) for p in model_parameters])\n",
        "  x_transform = model(x_train)\n",
        "  latent_space = model.encoder(x_train)\n",
        "  n_l[i,:] = np.shape(latent_space) "
      ],
      "execution_count": 63,
      "outputs": [
        {
          "output_type": "stream",
          "text": [
            "0\n",
            "1\n",
            "2\n",
            "3\n",
            "4\n",
            "5\n",
            "6\n",
            "7\n",
            "8\n",
            "9\n"
          ],
          "name": "stdout"
        }
      ]
    },
    {
      "cell_type": "code",
      "metadata": {
        "id": "6Pae0V7wqa7S",
        "colab_type": "code",
        "colab": {
          "base_uri": "https://localhost:8080/",
          "height": 283
        },
        "outputId": "ceb7d838-c25a-42e5-e4cf-47d0e764f7b2"
      },
      "source": [
        "plt.scatter(n_c,loss_value, c = n_l[:,3])\n",
        "plt.xlabel('numero de parametros')\n",
        "plt.ylabel('loss')\n",
        "plt.set_cmap('jet')\n",
        "cbar = plt.colorbar()\n",
        "cbar.set_label('numero de dimensiones latentes')"
      ],
      "execution_count": 81,
      "outputs": [
        {
          "output_type": "display_data",
          "data": {
            "image/png": "[encoded data removed]",
            "text/plain": [
              "<Figure size 432x288 with 2 Axes>"
            ]
          },
          "metadata": {
            "tags": [],
            "needs_background": "light"
          }
        }
      ]
    },
    {
      "cell_type": "code",
      "metadata": {
        "id": "GqOMTRBo9K9E",
        "colab_type": "code",
        "colab": {
          "base_uri": "https://localhost:8080/",
          "height": 282
        },
        "outputId": "0fa74306-764e-4b8b-96cd-2a74c756bb6a"
      },
      "source": [
        "plt.scatter(n_l[:,3], loss_value, c = n_c)\n",
        "plt.xlabel('numero de dimensiones latentes')\n",
        "plt.ylabel('loss')\n",
        "cbar = plt.colorbar()\n",
        "cbar.set_label('numero de parametros')"
      ],
      "execution_count": 82,
      "outputs": [
        {
          "output_type": "display_data",
          "data": {
            "image/png": "[encoded data removed]",
            "text/plain": [
              "<Figure size 432x288 with 2 Axes>"
            ]
          },
          "metadata": {
            "tags": [],
            "needs_background": "light"
          }
        }
      ]
    },
    {
      "cell_type": "code",
      "metadata": {
        "id": "bJk1JuNx-ob6",
        "colab_type": "code",
        "colab": {
          "base_uri": "https://localhost:8080/",
          "height": 279
        },
        "outputId": "1faf6f1e-08cd-4e7c-c746-652510e3207f"
      },
      "source": [
        "plt.scatter(n_c,n_l[:,3], c = loss_value)\n",
        "plt.xlabel('numero de parametros')\n",
        "plt.ylabel('numero de dimensiones latentes')\n",
        "cbar = plt.colorbar()\n",
        "cbar.set_label('loss')"
      ],
      "execution_count": 83,
      "outputs": [
        {
          "output_type": "display_data",
          "data": {
            "image/png": "[encoded data removed]",
            "text/plain": [
              "<Figure size 432x288 with 2 Axes>"
            ]
          },
          "metadata": {
            "tags": [],
            "needs_background": "light"
          }
        }
      ]
    },
    {
      "cell_type": "markdown",
      "metadata": {
        "id": "lImYWN2ODN25",
        "colab_type": "text"
      },
      "source": [
        "De los resultados obtenidos se puede concluir que cuando se tienen menos dimensiones latentes el loss es mayor. De igual forma, es mas conveniente para el modelo tener una mayor cantidad de parametros.\n",
        "\n"
      ]
    },
    {
      "cell_type": "code",
      "metadata": {
        "id": "icluAklPqwY9",
        "colab_type": "code",
        "colab": {
          "base_uri": "https://localhost:8080/",
          "height": 53
        },
        "outputId": "97fc115d-51c3-4be2-fcfc-f07cf9ad04f8"
      },
      "source": [
        "model_parameters = filter(lambda p: p.requires_grad, model.parameters())\n",
        "params = sum([np.prod(p.size()) for p in model_parameters])\n",
        "print(params)\n",
        "\n",
        "n_p = 0\n",
        "\n",
        "for m in model.parameters():\n",
        "  n_p+=m.flatten().size()[0]\n",
        "\n",
        "print(n_p)"
      ],
      "execution_count": 43,
      "outputs": [
        {
          "output_type": "stream",
          "text": [
            "2175\n",
            "2175\n"
          ],
          "name": "stdout"
        }
      ]
    }
  ]
}